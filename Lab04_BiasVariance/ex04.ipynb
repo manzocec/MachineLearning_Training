{
 "cells": [
  {
   "cell_type": "code",
   "execution_count": 1,
   "metadata": {},
   "outputs": [],
   "source": [
    "# Useful starting lines\n",
    "%matplotlib inline\n",
    "import numpy as np\n",
    "import matplotlib.pyplot as plt\n",
    "%load_ext autoreload\n",
    "%autoreload 2\n",
    "\n",
    "from helpers import load_data\n",
    "from costs import compute_mse\n",
    "from ridge_regression import ridge_regression\n",
    "from build_polynomial import build_poly\n",
    "from plots import cross_validation_visualization"
   ]
  },
  {
   "cell_type": "markdown",
   "metadata": {},
   "source": [
    "# Cross-Validation"
   ]
  },
  {
   "cell_type": "code",
   "execution_count": 2,
   "metadata": {},
   "outputs": [],
   "source": [
    "# load dataset\n",
    "x, y = load_data()"
   ]
  },
  {
   "cell_type": "code",
   "execution_count": 3,
   "metadata": {},
   "outputs": [
    {
     "name": "stdout",
     "output_type": "stream",
     "text": [
      "<class 'numpy.ndarray'>\n",
      "50\n",
      "50\n"
     ]
    }
   ],
   "source": [
    "print(type(x))\n",
    "print(len(x))\n",
    "print(len(y))"
   ]
  },
  {
   "cell_type": "code",
   "execution_count": 4,
   "metadata": {},
   "outputs": [],
   "source": [
    "def build_k_indices(y, k_fold, seed):\n",
    "    \"\"\"build k indices for k-fold.\"\"\"\n",
    "    num_row = y.shape[0]\n",
    "    interval = int(num_row / k_fold)\n",
    "    np.random.seed(seed)\n",
    "    indices = np.random.permutation(num_row)\n",
    "    k_indices = [indices[k * interval: (k + 1) * interval]\n",
    "                 for k in range(k_fold)]\n",
    "    return np.array(k_indices)"
   ]
  },
  {
   "cell_type": "code",
   "execution_count": 5,
   "metadata": {},
   "outputs": [
    {
     "name": "stdout",
     "output_type": "stream",
     "text": [
      "(6, 8)\n",
      "[[27 35 40 38  2  3 48 29]\n",
      " [46 31 32 39 21 36 19 42]\n",
      " [49 26 22 13 41 17 45 24]\n",
      " [23  4 33 14 30 10 28 44]\n",
      " [34 18 20 25  6  7 47  1]\n",
      " [16  0 15  5 11  9  8 12]]\n"
     ]
    }
   ],
   "source": [
    "k_idx = build_k_indices(y, k_fold=6, seed=1)\n",
    "print(np.shape(k_idx))\n",
    "print(k_idx)\n",
    "\n",
    "#NOTE: if len(y) is not a multiple of k_fold then some indices can get disarded."
   ]
  },
  {
   "cell_type": "code",
   "execution_count": 6,
   "metadata": {},
   "outputs": [
    {
     "data": {
      "text/plain": [
       "array([27, 35, 40, 38,  2,  3, 48, 29, 46, 31, 32, 39, 21, 36, 19, 42, 23,\n",
       "        4, 33, 14, 30, 10, 28, 44, 34, 18, 20, 25,  6,  7, 47,  1, 16,  0,\n",
       "       15,  5, 11,  9,  8, 12])"
      ]
     },
     "execution_count": 6,
     "metadata": {},
     "output_type": "execute_result"
    }
   ],
   "source": [
    "hh = 2\n",
    "k_idx_tmp = k_idx\n",
    "k_idx_tmp = np.delete(k_idx_tmp, hh, 0)\n",
    "(np.append([], [list(j) for j in k_idx_tmp])).astype(int)"
   ]
  },
  {
   "cell_type": "code",
   "execution_count": 7,
   "metadata": {},
   "outputs": [],
   "source": [
    "def cross_validation(y, x, k_indices, k, lambda_, degree):\n",
    "    \"\"\"return the loss of ridge regression.\"\"\"\n",
    "    \n",
    "    idx_tr = k_indices[k]\n",
    "    idx_tmp = k_indices\n",
    "    idx_tmp = np.delete(idx_tmp, k, 0)\n",
    "    idx_te = (np.append([], [list(j) for j in idx_tmp])).astype(int)\n",
    "    \n",
    "    x_tr = x[idx_tr]\n",
    "    x_te = x[idx_te]\n",
    "    y_tr = y[idx_tr]\n",
    "    y_te = y[idx_te]\n",
    "    \n",
    "    phi_tr = build_poly(x_tr, degree)\n",
    "    phi_te = build_poly(x_te, degree)\n",
    "    \n",
    "    w = ridge_regression(y_tr, phi_tr, lambda_)\n",
    "    \n",
    "    rmse_tr = np.sqrt(2 * compute_mse(y_tr, phi_tr, w))\n",
    "    rmse_te = np.sqrt(2 * compute_mse(y_te, phi_te, w))\n",
    "    \n",
    "    return rmse_tr, rmse_te"
   ]
  },
  {
   "cell_type": "code",
   "execution_count": 8,
   "metadata": {},
   "outputs": [
    {
     "data": {
      "image/png": "[encoded data removed]",
      "text/plain": [
       "<Figure size 432x288 with 1 Axes>"
      ]
     },
     "metadata": {
      "needs_background": "light"
     },
     "output_type": "display_data"
    }
   ],
   "source": [
    "def cross_validation_demo(x, y):\n",
    "    seed = 1\n",
    "    degree = 7\n",
    "    k_fold = 4\n",
    "    lambdas = np.logspace(-4, 2, 30)\n",
    "    # split data in k fold\n",
    "    k_indices = build_k_indices(y, k_fold, seed)\n",
    "    # define lists to store the loss of training data and test data\n",
    "    rmse_tr = []\n",
    "    rmse_te = []\n",
    "    \n",
    "    for ll in lambdas:\n",
    "        k_rmse_tr = np.array([])\n",
    "        k_rmse_te = np.array([])\n",
    "        for kk in range(k_fold):\n",
    "            k_rmse_tr, k_rmse_te = cross_validation(y, x, k_indices, kk, ll, degree)\n",
    "            k_rmse_tr = np.append(k_rmse_tr, k_rmse_tr)\n",
    "            k_rmse_te = np.append(k_rmse_te, k_rmse_te)\n",
    "        \n",
    "        rmse_tr.append(np.mean(k_rmse_tr))\n",
    "        rmse_te.append(np.mean(k_rmse_te))\n",
    "    \n",
    "    cross_validation_visualization(lambdas, rmse_tr, rmse_te)\n",
    "\n",
    "cross_validation_demo(x, y)"
   ]
  },
  {
   "cell_type": "markdown",
   "metadata": {},
   "source": [
    "## Bias-Variance Decomposition"
   ]
  },
  {
   "cell_type": "code",
   "execution_count": null,
   "metadata": {},
   "outputs": [],
   "source": [
    "def bias_variance_demo():\n",
    "    \"\"\"The entry.\"\"\"\n",
    "    # define parameters\n",
    "    seeds = range(100)\n",
    "    num_data = 10000\n",
    "    ratio_train = 0.005\n",
    "    degrees = range(1, 10)\n",
    "    \n",
    "    # define list to store the variable\n",
    "    rmse_tr = np.empty((len(seeds), len(degrees)))\n",
    "    rmse_te = np.empty((len(seeds), len(degrees)))\n",
    "    \n",
    "    for index_seed, seed in enumerate(seeds):\n",
    "        np.random.seed(seed)\n",
    "        x = np.linspace(0.1, 2 * np.pi, num_data)\n",
    "        y = np.sin(x) + 0.3 * np.random.randn(num_data).T\n",
    "        # ***************************************************\n",
    "        # INSERT YOUR CODE HERE\n",
    "        # split data with a specific seed: TODO\n",
    "        # ***************************************************\n",
    "        raise NotImplementedError\n",
    "        # ***************************************************\n",
    "        # INSERT YOUR CODE HERE\n",
    "        # bias_variance_decomposition: TODO\n",
    "        # ***************************************************\n",
    "        raise NotImplementedError\n",
    "\n",
    "    bias_variance_decomposition_visualization(degrees, rmse_tr, rmse_te)\n",
    "\n",
    "bias_variance_demo()"
   ]
  }
 ],
 "metadata": {
  "anaconda-cloud": {},
  "kernelspec": {
   "display_name": "Python [conda env:anaconda3]",
   "language": "python",
   "name": "conda-env-anaconda3-py"
  },
  "language_info": {
   "codemirror_mode": {
    "name": "ipython",
    "version": 3
   },
   "file_extension": ".py",
   "mimetype": "text/x-python",
   "name": "python",
   "nbconvert_exporter": "python",
   "pygments_lexer": "ipython3",
   "version": "3.7.0"
  }
 },
 "nbformat": 4,
 "nbformat_minor": 1
}
